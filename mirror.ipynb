{
 "cells": [
  {
   "cell_type": "code",
   "execution_count": 13,
   "metadata": {
    "collapsed": true
   },
   "outputs": [],
   "source": [
    "from PIL import Image\n",
    "import os"
   ]
  },
  {
   "cell_type": "code",
   "execution_count": 29,
   "metadata": {
    "collapsed": true
   },
   "outputs": [],
   "source": [
    "def flip_x(image_path, saved_location):\n",
    "    \"\"\"\n",
    "    Flip or mirror the image\n",
    " \n",
    "    @param image_path: The path to the image to edit\n",
    "    @param saved_location: Path to save the cropped image\n",
    "    \"\"\"\n",
    "    image_obj = Image.open(image_path)\n",
    "    rotated_image = image_obj.transpose(Image.FLIP_LEFT_RIGHT)\n",
    "    rotated_image.save(saved_location)\n",
    "    rotated_image.show()"
   ]
  },
  {
   "cell_type": "code",
   "execution_count": 30,
   "metadata": {
    "collapsed": true
   },
   "outputs": [],
   "source": [
    "def flip_y(image_path, saved_location):\n",
    "    \"\"\"\n",
    "    Flip or mirror the image\n",
    " \n",
    "    @param image_path: The path to the image to edit\n",
    "    @param saved_location: Path to save the cropped image\n",
    "    \"\"\"\n",
    "    image_obj = Image.open(image_path)\n",
    "    rotated_image = image_obj.transpose(Image.FLIP_TOP_BOTTOM)\n",
    "    rotated_image.save(saved_location)\n",
    "    rotated_image.show()"
   ]
  },
  {
   "cell_type": "code",
   "execution_count": null,
   "metadata": {
    "collapsed": true
   },
   "outputs": [],
   "source": [
    "# Read all images in directory:"
   ]
  },
  {
   "cell_type": "code",
   "execution_count": 11,
   "metadata": {
    "collapsed": true
   },
   "outputs": [],
   "source": [
    "# directory name\n",
    "d = '/home/barimpac/keras-retinanet/data/imgs/train/'\n",
    "\n",
    "files = os.listdir(d)"
   ]
  },
  {
   "cell_type": "code",
   "execution_count": 32,
   "metadata": {
    "collapsed": true
   },
   "outputs": [],
   "source": [
    "to_save = '/home/barimpac/rotated/'"
   ]
  },
  {
   "cell_type": "code",
   "execution_count": 33,
   "metadata": {
    "collapsed": true
   },
   "outputs": [],
   "source": [
    "for f in files:\n",
    "    fx = f.replace(\".jpg\", \"x.jpg\")\n",
    "    fy = f.replace(\".jpg\", \"y.jpg\")\n",
    "    # probably have to add path before f, but let's try\n",
    "    flip_x(d+f, to_save+fx)\n",
    "    flip_y(d+f, to_save+fy)"
   ]
  },
  {
   "cell_type": "code",
   "execution_count": null,
   "metadata": {
    "collapsed": true
   },
   "outputs": [],
   "source": []
  }
 ],
 "metadata": {
  "kernelspec": {
   "display_name": "Python 3",
   "language": "python",
   "name": "python3"
  },
  "language_info": {
   "codemirror_mode": {
    "name": "ipython",
    "version": 3
   },
   "file_extension": ".py",
   "mimetype": "text/x-python",
   "name": "python",
   "nbconvert_exporter": "python",
   "pygments_lexer": "ipython3",
   "version": "3.6.4"
  }
 },
 "nbformat": 4,
 "nbformat_minor": 2
}
